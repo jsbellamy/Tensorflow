{
 "cells": [
  {
   "cell_type": "markdown",
   "metadata": {},
   "source": [
    "Demonstrates the usage of datasets and iterators"
   ]
  },
  {
   "cell_type": "code",
   "execution_count": 1,
   "metadata": {},
   "outputs": [
    {
     "name": "stderr",
     "output_type": "stream",
     "text": [
      "C:\\Users\\Jake\\Anaconda3\\lib\\site-packages\\h5py\\__init__.py:36: FutureWarning: Conversion of the second argument of issubdtype from `float` to `np.floating` is deprecated. In future, it will be treated as `np.float64 == np.dtype(float).type`.\n",
      "  from ._conv import register_converters as _register_converters\n"
     ]
    }
   ],
   "source": [
    "from __future__ import absolute_import\n",
    "from __future__ import division\n",
    "from __future__ import print_function\n",
    "\n",
    "import tensorflow as tf"
   ]
  },
  {
   "cell_type": "code",
   "execution_count": 2,
   "metadata": {},
   "outputs": [],
   "source": [
    "# Generator function\n",
    "def gen_func():\n",
    "    x = 12\n",
    "    while x < 20:\n",
    "        yield x\n",
    "        x += 2"
   ]
  },
  {
   "cell_type": "code",
   "execution_count": 3,
   "metadata": {},
   "outputs": [
    {
     "name": "stdout",
     "output_type": "stream",
     "text": [
      "0\n",
      "1\n",
      "2\n",
      "3\n",
      "[[4 5]\n",
      " [6 7]]\n",
      "[8]\n",
      "[9]\n",
      "[10]\n",
      "[11]\n",
      "12\n",
      "14\n",
      "16\n",
      "18\n"
     ]
    }
   ],
   "source": [
    "# Step 1: Create a dataset/iterator from a range of values\n",
    "ds1 = tf.data.Dataset.range(4)\n",
    "iter1 = ds1.make_one_shot_iterator()\n",
    "\n",
    "# Step 2: Create a dataset/iterator from two tensors\n",
    "t1 = tf.constant([4, 5])\n",
    "t2 = tf.constant([6, 7])\n",
    "ds2 = tf.data.Dataset.from_tensors([t1, t2])\n",
    "iter2 = ds2.make_one_shot_iterator()\n",
    "\n",
    "# Step 3: Create a dataset/iterator from rows of a tensor\n",
    "t3 = tf.constant([[8], [9], [10], [11]])\n",
    "ds3 = tf.data.Dataset.from_tensor_slices(t3)\n",
    "iter3 = ds3.make_one_shot_iterator()\n",
    "\n",
    "# Step 4: Create a dataset/iterator from a generator function\n",
    "ds4 = tf.data.Dataset.from_generator(gen_func, output_types=tf.int64)\n",
    "iter4 = ds4.make_one_shot_iterator()\n",
    "\n",
    "# Step 5: Print the elements of each dataset\n",
    "with tf.Session() as sess:\n",
    "    \n",
    "    for i in range(4):\n",
    "        print(sess.run(iter1.get_next()))\n",
    "        \n",
    "    print(sess.run(iter2.get_next()))\n",
    "    \n",
    "    for i in range(4):\n",
    "        print(sess.run(iter3.get_next()))\n",
    "        \n",
    "    for i in range(4):\n",
    "        print(sess.run(iter4.get_next()))\n",
    "        "
   ]
  },
  {
   "cell_type": "code",
   "execution_count": null,
   "metadata": {},
   "outputs": [],
   "source": []
  },
  {
   "cell_type": "code",
   "execution_count": null,
   "metadata": {},
   "outputs": [],
   "source": []
  },
  {
   "cell_type": "code",
   "execution_count": null,
   "metadata": {},
   "outputs": [],
   "source": []
  }
 ],
 "metadata": {
  "kernelspec": {
   "display_name": "Python 3",
   "language": "python",
   "name": "python3"
  },
  "language_info": {
   "codemirror_mode": {
    "name": "ipython",
    "version": 3
   },
   "file_extension": ".py",
   "mimetype": "text/x-python",
   "name": "python",
   "nbconvert_exporter": "python",
   "pygments_lexer": "ipython3",
   "version": "3.6.5"
  }
 },
 "nbformat": 4,
 "nbformat_minor": 2
}
