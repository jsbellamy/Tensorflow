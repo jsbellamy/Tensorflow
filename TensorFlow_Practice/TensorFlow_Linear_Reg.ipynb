{
 "cells": [
  {
   "cell_type": "markdown",
   "metadata": {},
   "source": [
    "Demonstrates linear regression with TensorFlow"
   ]
  },
  {
   "cell_type": "code",
   "execution_count": 1,
   "metadata": {},
   "outputs": [
    {
     "name": "stderr",
     "output_type": "stream",
     "text": [
      "C:\\Users\\Jake\\Anaconda3\\lib\\site-packages\\h5py\\__init__.py:36: FutureWarning: Conversion of the second argument of issubdtype from `float` to `np.floating` is deprecated. In future, it will be treated as `np.float64 == np.dtype(float).type`.\n",
      "  from ._conv import register_converters as _register_converters\n"
     ]
    }
   ],
   "source": [
    "from __future__ import absolute_import\n",
    "from __future__ import division\n",
    "from __future__ import print_function\n",
    "\n",
    "import numpy as np\n",
    "import tensorflow as tf"
   ]
  },
  {
   "cell_type": "code",
   "execution_count": 2,
   "metadata": {},
   "outputs": [
    {
     "name": "stdout",
     "output_type": "stream",
     "text": [
      "m =  0.48085165\n",
      "b =  0.9828593\n"
     ]
    }
   ],
   "source": [
    "# Set constants\n",
    "N = 1000\n",
    "learn_rate = 0.1\n",
    "batch_size = 40\n",
    "num_batches = 400\n",
    "\n",
    "# Step 1: Generate input points\n",
    "x = np.random.normal(size=N)\n",
    "m_real = np.random.normal(loc=0.5, scale=0.2, size=N)\n",
    "b_real = np.random.normal(loc=1.0, scale=0.2, size=N)\n",
    "y = (m_real * x) + b_real\n",
    "\n",
    "# Step 2: Create variables and placeholders\n",
    "m = tf.Variable(tf.random_normal([]))\n",
    "b = tf.Variable(tf.random_normal([]))\n",
    "x_holder = tf.placeholder(tf.float32, shape=[batch_size])\n",
    "y_holder = tf.placeholder(tf.float32, shape=[batch_size])\n",
    "\n",
    "# Step 3: Define model and loss\n",
    "model = (m * x_holder) + b\n",
    "loss = tf.reduce_mean(tf.pow(model - y_holder, 2))\n",
    "\n",
    "# Step 4: Create optimizer\n",
    "optimizer = tf.train.GradientDescentOptimizer(learn_rate).minimize(loss)\n",
    "\n",
    "# Step 5: Execute optimizer in a session\n",
    "with tf.Session() as sess:\n",
    "    sess.run(tf.global_variables_initializer())\n",
    "    \n",
    "    for _ in range(num_batches):\n",
    "        \n",
    "        x_data = np.empty(batch_size)\n",
    "        y_data = np.empty(batch_size)\n",
    "        for i in range(batch_size):\n",
    "            index = np.random.randint(0, N)\n",
    "            x_data[i] = x[index]\n",
    "            y_data[i] = y[index]\n",
    "            \n",
    "        sess.run(optimizer, feed_dict={x_holder: x_data, y_holder: y_data})\n",
    "        \n",
    "    print('m = ', sess.run(m))\n",
    "    print('b = ', sess.run(b))"
   ]
  },
  {
   "cell_type": "code",
   "execution_count": null,
   "metadata": {},
   "outputs": [],
   "source": []
  }
 ],
 "metadata": {
  "kernelspec": {
   "display_name": "Python 3",
   "language": "python",
   "name": "python3"
  },
  "language_info": {
   "codemirror_mode": {
    "name": "ipython",
    "version": 3
   },
   "file_extension": ".py",
   "mimetype": "text/x-python",
   "name": "python",
   "nbconvert_exporter": "python",
   "pygments_lexer": "ipython3",
   "version": "3.6.5"
  }
 },
 "nbformat": 4,
 "nbformat_minor": 2
}
