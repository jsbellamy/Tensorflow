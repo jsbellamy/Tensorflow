{
 "cells": [
  {
   "cell_type": "markdown",
   "metadata": {},
   "source": [
    "Demonstrate how optimizers are used"
   ]
  },
  {
   "cell_type": "code",
   "execution_count": 1,
   "metadata": {},
   "outputs": [
    {
     "name": "stderr",
     "output_type": "stream",
     "text": [
      "C:\\Users\\Jake\\Anaconda3\\lib\\site-packages\\h5py\\__init__.py:36: FutureWarning: Conversion of the second argument of issubdtype from `float` to `np.floating` is deprecated. In future, it will be treated as `np.float64 == np.dtype(float).type`.\n",
      "  from ._conv import register_converters as _register_converters\n"
     ]
    }
   ],
   "source": [
    "from __future__ import absolute_import\n",
    "from __future__ import division\n",
    "from __future__ import print_function\n",
    "\n",
    "import tensorflow as tf"
   ]
  },
  {
   "cell_type": "code",
   "execution_count": 3,
   "metadata": {},
   "outputs": [
    {
     "name": "stdout",
     "output_type": "stream",
     "text": [
      "INFO:tensorflow:x is 1.9449639320373535 and the loss is 1.0032293796539307\n"
     ]
    }
   ],
   "source": [
    "# Define constants\n",
    "learn_rate = 0.2\n",
    "num_steps = 100\n",
    "\n",
    "# Step 1: Define the loss function\n",
    "x = tf.Variable(0.0)\n",
    "loss = tf.pow(x, 2) - 4.0 * x + 5.0\n",
    "\n",
    "# Step 2: Create an optimizer to minimize the loss\n",
    "optimizer = tf.train.AdagradOptimizer(learn_rate).minimize(loss)\n",
    "\n",
    "# Step 3: Execute the optimizer in a session\n",
    "with tf.Session() as sess:\n",
    "    sess.run(tf.global_variables_initializer())\n",
    "    for step in range(num_steps):\n",
    "        step, loss_val, x_val = sess.run([optimizer, loss, x])\n",
    "\n",
    "# Step 4: Print the values of x and the loss to the log\n",
    "    tf.logging.set_verbosity(tf.logging.INFO)\n",
    "    str = 'x is {} and the loss is {}'.format(x_val, loss_val)\n",
    "    tf.logging.info(str)"
   ]
  },
  {
   "cell_type": "code",
   "execution_count": null,
   "metadata": {},
   "outputs": [],
   "source": []
  }
 ],
 "metadata": {
  "kernelspec": {
   "display_name": "Python 3",
   "language": "python",
   "name": "python3"
  },
  "language_info": {
   "codemirror_mode": {
    "name": "ipython",
    "version": 3
   },
   "file_extension": ".py",
   "mimetype": "text/x-python",
   "name": "python",
   "nbconvert_exporter": "python",
   "pygments_lexer": "ipython3",
   "version": "3.6.5"
  }
 },
 "nbformat": 4,
 "nbformat_minor": 2
}
