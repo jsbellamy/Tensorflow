{
 "cells": [
  {
   "cell_type": "markdown",
   "metadata": {},
   "source": [
    "Demonstrate the usage of tensors, graphs, and sessions"
   ]
  },
  {
   "cell_type": "code",
   "execution_count": 1,
   "metadata": {},
   "outputs": [
    {
     "name": "stderr",
     "output_type": "stream",
     "text": [
      "C:\\Users\\Jake\\Anaconda3\\lib\\site-packages\\h5py\\__init__.py:36: FutureWarning: Conversion of the second argument of issubdtype from `float` to `np.floating` is deprecated. In future, it will be treated as `np.float64 == np.dtype(float).type`.\n",
      "  from ._conv import register_converters as _register_converters\n"
     ]
    }
   ],
   "source": [
    "from __future__ import absolute_import\n",
    "from __future__ import division\n",
    "from __future__ import print_function\n",
    "\n",
    "import tensorflow as tf"
   ]
  },
  {
   "cell_type": "code",
   "execution_count": 2,
   "metadata": {},
   "outputs": [
    {
     "name": "stdout",
     "output_type": "stream",
     "text": [
      "INFO:tensorflow:Result 5\n"
     ]
    }
   ],
   "source": [
    "# Step 1: Create two variables and an operation that adds them together\n",
    "v1 = tf.Variable(2)\n",
    "v2 = tf.Variable(3)\n",
    "v3 = v1 + v2\n",
    "\n",
    "# Step 2: Obtain an operation that initializes the two variables\n",
    "init = tf.global_variables_initializer()\n",
    "\n",
    "# Step 3: Execute the initialization operation in a session\n",
    "with tf.Session() as sess:\n",
    "    sess.run(init)\n",
    "\n",
    "# Step 4: Execute the addition operation in a session\n",
    "    result = sess.run(v3)\n",
    "\n",
    "# Step 5: Print the result of the addition to the log\n",
    "    tf.logging.set_verbosity(tf.logging.INFO)\n",
    "    tf.logging.info('Result {}'.format(result))"
   ]
  },
  {
   "cell_type": "code",
   "execution_count": null,
   "metadata": {},
   "outputs": [],
   "source": []
  }
 ],
 "metadata": {
  "kernelspec": {
   "display_name": "Python 3",
   "language": "python",
   "name": "python3"
  },
  "language_info": {
   "codemirror_mode": {
    "name": "ipython",
    "version": 3
   },
   "file_extension": ".py",
   "mimetype": "text/x-python",
   "name": "python",
   "nbconvert_exporter": "python",
   "pygments_lexer": "ipython3",
   "version": "3.6.5"
  }
 },
 "nbformat": 4,
 "nbformat_minor": 2
}
