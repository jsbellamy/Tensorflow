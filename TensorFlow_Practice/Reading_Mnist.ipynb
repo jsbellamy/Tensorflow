{
 "cells": [
  {
   "cell_type": "code",
   "execution_count": 1,
   "metadata": {},
   "outputs": [
    {
     "name": "stderr",
     "output_type": "stream",
     "text": [
      "C:\\Users\\Jake\\Anaconda3\\lib\\site-packages\\h5py\\__init__.py:36: FutureWarning: Conversion of the second argument of issubdtype from `float` to `np.floating` is deprecated. In future, it will be treated as `np.float64 == np.dtype(float).type`.\n",
      "  from ._conv import register_converters as _register_converters\n"
     ]
    }
   ],
   "source": [
    "from __future__ import absolute_import\n",
    "from __future__ import division\n",
    "from __future__ import print_function\n",
    "\n",
    "import matplotlib.pyplot as plt\n",
    "import tensorflow as tf"
   ]
  },
  {
   "cell_type": "code",
   "execution_count": 10,
   "metadata": {},
   "outputs": [
    {
     "data": {
      "image/png": "[encoded data removed]",
      "text/plain": [
       "<Figure size 432x288 with 1 Axes>"
      ]
     },
     "metadata": {},
     "output_type": "display_data"
    }
   ],
   "source": [
    "# Step 1: Create a TFRecordDataset and iterator\n",
    "dset = tf.data.TFRecordDataset('images/mnist_test.tfrecords')\n",
    "iter = dset.make_one_shot_iterator()\n",
    "\n",
    "# Step 2: Create a dictionary that describes the examples\n",
    "feature_dict = {'images': tf.FixedLenFeature([], tf.string),\n",
    "               'labels': tf.FixedLenFeature([], tf.int64)}\n",
    "\n",
    "# Step 3: Parse the first example\n",
    "with tf.Session() as sess:\n",
    "    example = sess.run(iter.get_next())\n",
    "    mnist = tf.parse_single_example(example, feature_dict)\n",
    "    \n",
    "# Step 4: Convert the data in the first image to a 28-by-28 array\n",
    "    pixels = tf.decode_raw(mnist['images'], tf.uint8)\n",
    "    pixel_matrix = pixels.eval().reshape((28,28))\n",
    "    \n",
    "# Step 5: Display the image\n",
    "    plt.imshow(pixel_matrix, cmap='gray')\n",
    "    plt.show()"
   ]
  },
  {
   "cell_type": "code",
   "execution_count": null,
   "metadata": {},
   "outputs": [],
   "source": []
  }
 ],
 "metadata": {
  "kernelspec": {
   "display_name": "Python 3",
   "language": "python",
   "name": "python3"
  },
  "language_info": {
   "codemirror_mode": {
    "name": "ipython",
    "version": 3
   },
   "file_extension": ".py",
   "mimetype": "text/x-python",
   "name": "python",
   "nbconvert_exporter": "python",
   "pygments_lexer": "ipython3",
   "version": "3.6.5"
  }
 },
 "nbformat": 4,
 "nbformat_minor": 2
}
