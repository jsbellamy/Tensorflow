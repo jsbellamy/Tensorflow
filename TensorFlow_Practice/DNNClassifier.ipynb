{
 "cells": [
  {
   "cell_type": "markdown",
   "metadata": {},
   "source": [
    "Classify MNIST images with a DNNClassifier"
   ]
  },
  {
   "cell_type": "code",
   "execution_count": 1,
   "metadata": {},
   "outputs": [
    {
     "name": "stderr",
     "output_type": "stream",
     "text": [
      "C:\\Users\\Jake\\Anaconda3\\lib\\site-packages\\h5py\\__init__.py:36: FutureWarning: Conversion of the second argument of issubdtype from `float` to `np.floating` is deprecated. In future, it will be treated as `np.float64 == np.dtype(float).type`.\n",
      "  from ._conv import register_converters as _register_converters\n"
     ]
    }
   ],
   "source": [
    "from __future__ import absolute_import\n",
    "from __future__ import division\n",
    "from __future__ import print_function\n",
    "\n",
    "import tensorflow as tf"
   ]
  },
  {
   "cell_type": "code",
   "execution_count": 2,
   "metadata": {},
   "outputs": [],
   "source": [
    "# Define constants\n",
    "image_dim = 28\n",
    "num_labels = 10\n",
    "batch_size = 80\n",
    "num_steps = 8000\n",
    "hidden_layers = [128, 32]"
   ]
  },
  {
   "cell_type": "code",
   "execution_count": 3,
   "metadata": {},
   "outputs": [],
   "source": [
    "# Step 1: Create a function to parse MNIST data\n",
    "def parser(record):\n",
    "    features = tf.parse_single_example(record,\n",
    "            features = {\n",
    "                    'images': tf.FixedLenFeature([], tf.string),\n",
    "                    'labels': tf.FixedLenFeature([], tf.int64),\n",
    "                    })\n",
    "    image = tf.decode_raw(features['images'], tf.uint8)\n",
    "    image.set_shape([image_dim * image_dim])\n",
    "    image = tf.cast(image, tf.float32) * (1.0/255) - 0.5\n",
    "    label = features['labels']\n",
    "    return image, label"
   ]
  },
  {
   "cell_type": "code",
   "execution_count": 4,
   "metadata": {},
   "outputs": [
    {
     "name": "stdout",
     "output_type": "stream",
     "text": [
      "INFO:tensorflow:Using default config.\n",
      "INFO:tensorflow:Using config: {'_model_dir': 'dnn_output', '_tf_random_seed': None, '_save_summary_steps': 100, '_save_checkpoints_steps': None, '_save_checkpoints_secs': 600, '_session_config': None, '_keep_checkpoint_max': 5, '_keep_checkpoint_every_n_hours': 10000, '_log_step_count_steps': 100, '_train_distribute': None, '_device_fn': None, '_service': None, '_cluster_spec': <tensorflow.python.training.server_lib.ClusterSpec object at 0x000002511F62A438>, '_task_type': 'worker', '_task_id': 0, '_global_id_in_cluster': 0, '_master': '', '_evaluation_master': '', '_is_chief': True, '_num_ps_replicas': 0, '_num_worker_replicas': 1}\n"
     ]
    }
   ],
   "source": [
    "# Step 2: Describe input data with a feature column\n",
    "column = tf.feature_column.numeric_column('pixels', shape=[image_dim * image_dim])\n",
    "\n",
    "# Step 3: Create a DNNClassifier with the feature column\n",
    "dnn_class = tf.estimator.DNNClassifier(hidden_layers, [column],\n",
    "        model_dir='dnn_output', n_classes=num_labels)"
   ]
  },
  {
   "cell_type": "code",
   "execution_count": 5,
   "metadata": {},
   "outputs": [
    {
     "name": "stdout",
     "output_type": "stream",
     "text": [
      "INFO:tensorflow:Calling model_fn.\n",
      "INFO:tensorflow:Done calling model_fn.\n",
      "INFO:tensorflow:Create CheckpointSaverHook.\n",
      "INFO:tensorflow:Graph was finalized.\n",
      "INFO:tensorflow:Running local_init_op.\n",
      "INFO:tensorflow:Done running local_init_op.\n",
      "INFO:tensorflow:Saving checkpoints for 0 into dnn_output\\model.ckpt.\n",
      "INFO:tensorflow:loss = 186.97464, step = 1\n",
      "INFO:tensorflow:global_step/sec: 201.555\n",
      "INFO:tensorflow:loss = 82.945694, step = 101 (0.497 sec)\n",
      "INFO:tensorflow:global_step/sec: 227.243\n",
      "INFO:tensorflow:loss = 49.25924, step = 201 (0.441 sec)\n",
      "INFO:tensorflow:global_step/sec: 229.312\n",
      "INFO:tensorflow:loss = 29.470917, step = 301 (0.435 sec)\n",
      "INFO:tensorflow:global_step/sec: 231.939\n",
      "INFO:tensorflow:loss = 32.09416, step = 401 (0.432 sec)\n",
      "INFO:tensorflow:global_step/sec: 231.15\n",
      "INFO:tensorflow:loss = 31.050756, step = 501 (0.431 sec)\n",
      "INFO:tensorflow:global_step/sec: 228.748\n",
      "INFO:tensorflow:loss = 29.216133, step = 601 (0.438 sec)\n",
      "INFO:tensorflow:global_step/sec: 219.751\n",
      "INFO:tensorflow:loss = 8.3956585, step = 701 (0.455 sec)\n",
      "INFO:tensorflow:global_step/sec: 241.608\n",
      "INFO:tensorflow:loss = 24.02262, step = 801 (0.414 sec)\n",
      "INFO:tensorflow:global_step/sec: 224.815\n",
      "INFO:tensorflow:loss = 12.084924, step = 901 (0.447 sec)\n",
      "INFO:tensorflow:global_step/sec: 221.341\n",
      "INFO:tensorflow:loss = 19.246674, step = 1001 (0.452 sec)\n",
      "INFO:tensorflow:global_step/sec: 226.849\n",
      "INFO:tensorflow:loss = 15.705516, step = 1101 (0.439 sec)\n",
      "INFO:tensorflow:global_step/sec: 233.18\n",
      "INFO:tensorflow:loss = 20.317762, step = 1201 (0.429 sec)\n",
      "INFO:tensorflow:global_step/sec: 232.102\n",
      "INFO:tensorflow:loss = 20.004917, step = 1301 (0.431 sec)\n",
      "INFO:tensorflow:global_step/sec: 231.564\n",
      "INFO:tensorflow:loss = 24.636883, step = 1401 (0.432 sec)\n",
      "INFO:tensorflow:global_step/sec: 209.327\n",
      "INFO:tensorflow:loss = 17.759813, step = 1501 (0.478 sec)\n",
      "INFO:tensorflow:global_step/sec: 232.64\n",
      "INFO:tensorflow:loss = 16.115025, step = 1601 (0.430 sec)\n",
      "INFO:tensorflow:global_step/sec: 226.337\n",
      "INFO:tensorflow:loss = 19.582796, step = 1701 (0.443 sec)\n",
      "INFO:tensorflow:global_step/sec: 230.5\n",
      "INFO:tensorflow:loss = 7.8417954, step = 1801 (0.434 sec)\n",
      "INFO:tensorflow:global_step/sec: 222.323\n",
      "INFO:tensorflow:loss = 17.211384, step = 1901 (0.451 sec)\n",
      "INFO:tensorflow:global_step/sec: 228.399\n",
      "INFO:tensorflow:loss = 12.70871, step = 2001 (0.436 sec)\n",
      "INFO:tensorflow:global_step/sec: 228.4\n",
      "INFO:tensorflow:loss = 13.832368, step = 2101 (0.441 sec)\n",
      "INFO:tensorflow:global_step/sec: 216.094\n",
      "INFO:tensorflow:loss = 19.581026, step = 2201 (0.462 sec)\n",
      "INFO:tensorflow:global_step/sec: 219.404\n",
      "INFO:tensorflow:loss = 14.737621, step = 2301 (0.454 sec)\n",
      "INFO:tensorflow:global_step/sec: 228.397\n",
      "INFO:tensorflow:loss = 13.904891, step = 2401 (0.441 sec)\n",
      "INFO:tensorflow:global_step/sec: 183.979\n",
      "INFO:tensorflow:loss = 9.821353, step = 2501 (0.542 sec)\n",
      "INFO:tensorflow:global_step/sec: 231.031\n",
      "INFO:tensorflow:loss = 8.668582, step = 2601 (0.432 sec)\n",
      "INFO:tensorflow:global_step/sec: 238.165\n",
      "INFO:tensorflow:loss = 12.352558, step = 2701 (0.421 sec)\n",
      "INFO:tensorflow:global_step/sec: 236.48\n",
      "INFO:tensorflow:loss = 5.9649706, step = 2801 (0.422 sec)\n",
      "INFO:tensorflow:global_step/sec: 213.79\n",
      "INFO:tensorflow:loss = 11.475387, step = 2901 (0.468 sec)\n",
      "INFO:tensorflow:global_step/sec: 232.101\n",
      "INFO:tensorflow:loss = 3.4630685, step = 3001 (0.432 sec)\n",
      "INFO:tensorflow:global_step/sec: 231.564\n",
      "INFO:tensorflow:loss = 14.386018, step = 3101 (0.431 sec)\n",
      "INFO:tensorflow:global_step/sec: 233.181\n",
      "INFO:tensorflow:loss = 20.070095, step = 3201 (0.430 sec)\n",
      "INFO:tensorflow:global_step/sec: 231.031\n",
      "INFO:tensorflow:loss = 35.26756, step = 3301 (0.433 sec)\n",
      "INFO:tensorflow:global_step/sec: 231.565\n",
      "INFO:tensorflow:loss = 13.010418, step = 3401 (0.431 sec)\n",
      "INFO:tensorflow:global_step/sec: 232.101\n",
      "INFO:tensorflow:loss = 20.06531, step = 3501 (0.431 sec)\n",
      "INFO:tensorflow:global_step/sec: 230.5\n",
      "INFO:tensorflow:loss = 13.262451, step = 3601 (0.435 sec)\n",
      "INFO:tensorflow:global_step/sec: 233.18\n",
      "INFO:tensorflow:loss = 11.590967, step = 3701 (0.429 sec)\n",
      "INFO:tensorflow:global_step/sec: 227.881\n",
      "INFO:tensorflow:loss = 17.145481, step = 3801 (0.438 sec)\n",
      "INFO:tensorflow:global_step/sec: 234.819\n",
      "INFO:tensorflow:loss = 13.070019, step = 3901 (0.428 sec)\n",
      "INFO:tensorflow:global_step/sec: 233.723\n",
      "INFO:tensorflow:loss = 6.8222337, step = 4001 (0.426 sec)\n",
      "INFO:tensorflow:global_step/sec: 233.724\n",
      "INFO:tensorflow:loss = 8.777719, step = 4101 (0.429 sec)\n",
      "INFO:tensorflow:global_step/sec: 229.445\n",
      "INFO:tensorflow:loss = 7.7371774, step = 4201 (0.435 sec)\n",
      "INFO:tensorflow:global_step/sec: 239.875\n",
      "INFO:tensorflow:loss = 7.448513, step = 4301 (0.417 sec)\n",
      "INFO:tensorflow:global_step/sec: 234.818\n",
      "INFO:tensorflow:loss = 3.5282938, step = 4401 (0.427 sec)\n",
      "INFO:tensorflow:global_step/sec: 236.48\n",
      "INFO:tensorflow:loss = 8.862519, step = 4501 (0.423 sec)\n",
      "INFO:tensorflow:global_step/sec: 200.936\n",
      "INFO:tensorflow:loss = 15.035901, step = 4601 (0.498 sec)\n",
      "INFO:tensorflow:global_step/sec: 237.04\n",
      "INFO:tensorflow:loss = 4.974216, step = 4701 (0.421 sec)\n",
      "INFO:tensorflow:global_step/sec: 229.971\n",
      "INFO:tensorflow:loss = 1.2489116, step = 4801 (0.435 sec)\n",
      "INFO:tensorflow:global_step/sec: 180.013\n",
      "INFO:tensorflow:loss = 11.76441, step = 4901 (0.557 sec)\n",
      "INFO:tensorflow:global_step/sec: 215.629\n",
      "INFO:tensorflow:loss = 7.923659, step = 5001 (0.464 sec)\n",
      "INFO:tensorflow:global_step/sec: 226.337\n",
      "INFO:tensorflow:loss = 1.6920794, step = 5101 (0.442 sec)\n",
      "INFO:tensorflow:global_step/sec: 229.972\n",
      "INFO:tensorflow:loss = 13.544761, step = 5201 (0.434 sec)\n",
      "INFO:tensorflow:global_step/sec: 240.449\n",
      "INFO:tensorflow:loss = 4.1439595, step = 5301 (0.416 sec)\n",
      "INFO:tensorflow:global_step/sec: 223.811\n",
      "INFO:tensorflow:loss = 4.9955645, step = 5401 (0.448 sec)\n",
      "INFO:tensorflow:global_step/sec: 223.312\n",
      "INFO:tensorflow:loss = 10.419022, step = 5501 (0.448 sec)\n",
      "INFO:tensorflow:global_step/sec: 231.031\n",
      "INFO:tensorflow:loss = 10.393164, step = 5601 (0.432 sec)\n",
      "INFO:tensorflow:global_step/sec: 211.982\n",
      "INFO:tensorflow:loss = 21.208597, step = 5701 (0.472 sec)\n",
      "INFO:tensorflow:global_step/sec: 223.811\n",
      "INFO:tensorflow:loss = 11.488501, step = 5801 (0.447 sec)\n",
      "INFO:tensorflow:global_step/sec: 196.219\n",
      "INFO:tensorflow:loss = 14.28223, step = 5901 (0.510 sec)\n",
      "INFO:tensorflow:global_step/sec: 196.989\n",
      "INFO:tensorflow:loss = 9.013089, step = 6001 (0.510 sec)\n",
      "INFO:tensorflow:global_step/sec: 210.205\n",
      "INFO:tensorflow:loss = 10.032835, step = 6101 (0.474 sec)\n",
      "INFO:tensorflow:global_step/sec: 208.024\n",
      "INFO:tensorflow:loss = 1.6474628, step = 6201 (0.488 sec)\n",
      "INFO:tensorflow:global_step/sec: 205.293\n",
      "INFO:tensorflow:loss = 12.3777275, step = 6301 (0.482 sec)\n",
      "INFO:tensorflow:global_step/sec: 212.194\n",
      "INFO:tensorflow:loss = 3.1758556, step = 6401 (0.470 sec)\n",
      "INFO:tensorflow:global_step/sec: 216.56\n",
      "INFO:tensorflow:loss = 10.964503, step = 6501 (0.463 sec)\n",
      "INFO:tensorflow:global_step/sec: 227.365\n",
      "INFO:tensorflow:loss = 8.268127, step = 6601 (0.439 sec)\n",
      "INFO:tensorflow:global_step/sec: 229.565\n",
      "INFO:tensorflow:loss = 12.557745, step = 6701 (0.435 sec)\n",
      "INFO:tensorflow:global_step/sec: 229.695\n",
      "INFO:tensorflow:loss = 6.9430313, step = 6801 (0.435 sec)\n",
      "INFO:tensorflow:global_step/sec: 227.008\n",
      "INFO:tensorflow:loss = 17.368565, step = 6901 (0.443 sec)\n",
      "INFO:tensorflow:global_step/sec: 227.865\n",
      "INFO:tensorflow:loss = 12.033468, step = 7001 (0.437 sec)\n",
      "INFO:tensorflow:global_step/sec: 237.878\n",
      "INFO:tensorflow:loss = 7.2396946, step = 7101 (0.420 sec)\n",
      "INFO:tensorflow:global_step/sec: 229.703\n",
      "INFO:tensorflow:loss = 8.230524, step = 7201 (0.436 sec)\n",
      "INFO:tensorflow:global_step/sec: 230.622\n",
      "INFO:tensorflow:loss = 4.8168025, step = 7301 (0.434 sec)\n",
      "INFO:tensorflow:global_step/sec: 229.687\n",
      "INFO:tensorflow:loss = 9.679721, step = 7401 (0.437 sec)\n",
      "INFO:tensorflow:global_step/sec: 221.342\n",
      "INFO:tensorflow:loss = 5.3361793, step = 7501 (0.451 sec)\n",
      "INFO:tensorflow:global_step/sec: 217.957\n",
      "INFO:tensorflow:loss = 8.744399, step = 7601 (0.459 sec)\n",
      "INFO:tensorflow:global_step/sec: 225.087\n",
      "INFO:tensorflow:loss = 11.388654, step = 7701 (0.444 sec)\n",
      "INFO:tensorflow:global_step/sec: 233.99\n",
      "INFO:tensorflow:loss = 6.765678, step = 7801 (0.425 sec)\n",
      "INFO:tensorflow:global_step/sec: 232.639\n",
      "INFO:tensorflow:loss = 10.827129, step = 7901 (0.430 sec)\n",
      "INFO:tensorflow:Saving checkpoints for 8000 into dnn_output\\model.ckpt.\n"
     ]
    },
    {
     "name": "stdout",
     "output_type": "stream",
     "text": [
      "INFO:tensorflow:Loss for final step: 12.084917.\n",
      "INFO:tensorflow:Calling model_fn.\n",
      "INFO:tensorflow:Done calling model_fn.\n",
      "INFO:tensorflow:Starting evaluation at 2018-08-23-07:40:17\n",
      "INFO:tensorflow:Graph was finalized.\n",
      "INFO:tensorflow:Restoring parameters from dnn_output\\model.ckpt-8000\n",
      "INFO:tensorflow:Running local_init_op.\n",
      "INFO:tensorflow:Done running local_init_op.\n",
      "INFO:tensorflow:Finished evaluation at 2018-08-23-07:40:18\n",
      "INFO:tensorflow:Saving dict for global step 8000: accuracy = 0.96, average_loss = 0.12955147, global_step = 8000, loss = 10.364118\n",
      "INFO:tensorflow:Saving 'checkpoint_path' summary for global step 8000: dnn_output\\model.ckpt-8000\n"
     ]
    }
   ],
   "source": [
    "# Step 4: Train the estimator\n",
    "def train_func():\n",
    "    dataset = tf.data.TFRecordDataset('images/mnist_train.tfrecords')\n",
    "    dataset = dataset.map(parser).repeat().batch(batch_size)\n",
    "    image, label = dataset.make_one_shot_iterator().get_next()\n",
    "    return {'pixels': image}, label\n",
    "dnn_class.train(train_func, steps=num_steps)\n",
    "\n",
    "# Step 5: Test the estimator\n",
    "def test_func():\n",
    "    dataset = tf.data.TFRecordDataset('images/mnist_test.tfrecords')    \n",
    "    dataset = dataset.map(parser).batch(batch_size)\n",
    "    image, label = dataset.make_one_shot_iterator().get_next()\n",
    "    return {'pixels': image}, label\n",
    "metrics = dnn_class.evaluate(test_func)"
   ]
  },
  {
   "cell_type": "code",
   "execution_count": 6,
   "metadata": {},
   "outputs": [
    {
     "name": "stdout",
     "output_type": "stream",
     "text": [
      "accuracy :  0.96\n",
      "average_loss :  0.12955147\n",
      "loss :  10.364118\n",
      "global_step :  8000\n"
     ]
    }
   ],
   "source": [
    "# Display metrics\n",
    "for key, value in metrics.items():\n",
    "    print(key, ': ', value)"
   ]
  },
  {
   "cell_type": "code",
   "execution_count": null,
   "metadata": {},
   "outputs": [],
   "source": []
  }
 ],
 "metadata": {
  "kernelspec": {
   "display_name": "Python 3",
   "language": "python",
   "name": "python3"
  },
  "language_info": {
   "codemirror_mode": {
    "name": "ipython",
    "version": 3
   },
   "file_extension": ".py",
   "mimetype": "text/x-python",
   "name": "python",
   "nbconvert_exporter": "python",
   "pygments_lexer": "ipython3",
   "version": "3.6.5"
  }
 },
 "nbformat": 4,
 "nbformat_minor": 2
}
