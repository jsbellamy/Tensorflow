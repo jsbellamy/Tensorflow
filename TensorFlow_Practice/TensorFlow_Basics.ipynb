{
 "cells": [
  {
   "cell_type": "markdown",
   "metadata": {},
   "source": [
    "Simple TensorFlow Application"
   ]
  },
  {
   "cell_type": "code",
   "execution_count": 1,
   "metadata": {},
   "outputs": [
    {
     "name": "stderr",
     "output_type": "stream",
     "text": [
      "C:\\Users\\Jake\\Anaconda3\\lib\\site-packages\\h5py\\__init__.py:36: FutureWarning: Conversion of the second argument of issubdtype from `float` to `np.floating` is deprecated. In future, it will be treated as `np.float64 == np.dtype(float).type`.\n",
      "  from ._conv import register_converters as _register_converters\n"
     ]
    }
   ],
   "source": [
    "from __future__ import absolute_import\n",
    "from __future__ import division\n",
    "from __future__ import print_function\n",
    "\n",
    "import tensorflow as tf"
   ]
  },
  {
   "cell_type": "code",
   "execution_count": 8,
   "metadata": {},
   "outputs": [
    {
     "name": "stdout",
     "output_type": "stream",
     "text": [
      "Hello TensorFlow\n"
     ]
    }
   ],
   "source": [
    "#create tensor\n",
    "msg = tf.string_join(['Hello ', 'TensorFlow'])\n",
    "\n",
    "with tf.Session() as sess:\n",
    "    print(sess.run(msg).decode())"
   ]
  },
  {
   "cell_type": "code",
   "execution_count": 17,
   "metadata": {},
   "outputs": [
    {
     "name": "stdout",
     "output_type": "stream",
     "text": [
      "Addition  [1.2353611 2.1503723 3.016036  5.1679487]\n",
      "Subtraction [ 5.47736    7.0383153 10.108398   9.305636 ]\n"
     ]
    }
   ],
   "source": [
    "# Step 1: Create two tensors and an addition operation\n",
    "t1 = tf.constant([1.2, 2.3, 3.4, 4.5])\n",
    "t2 = tf.random_normal([4])\n",
    "t3 = t1 + t2\n",
    "graph1 = tf.get_default_graph()\n",
    "\n",
    "# Step 2: Create a second graph and make it the default graph\n",
    "graph2 = tf.Graph()\n",
    "with graph2.as_default():\n",
    "    \n",
    "# Step 3: Create two tensors in the second graph and a subtraction operation\n",
    "    t4 = tf.constant([5.6, 6.7, 7.8, 8.9])\n",
    "    t5 = tf.random_normal([4])\n",
    "    t6 = t4 - t5\n",
    "# Step 4: Create a session and execute the addition operation from the first graph\n",
    "with tf.Session(graph=graph1) as sess:\n",
    "    print('Addition ', sess.run(t3))\n",
    "# Step 5: Create a second session and execute the subtraction operation from the second graph\n",
    "with tf.Session(graph=graph2) as sess:\n",
    "    print('Subtraction', sess.run(t6))"
   ]
  },
  {
   "cell_type": "code",
   "execution_count": null,
   "metadata": {},
   "outputs": [],
   "source": []
  },
  {
   "cell_type": "code",
   "execution_count": null,
   "metadata": {},
   "outputs": [],
   "source": []
  }
 ],
 "metadata": {
  "kernelspec": {
   "display_name": "Python 3",
   "language": "python",
   "name": "python3"
  },
  "language_info": {
   "codemirror_mode": {
    "name": "ipython",
    "version": 3
   },
   "file_extension": ".py",
   "mimetype": "text/x-python",
   "name": "python",
   "nbconvert_exporter": "python",
   "pygments_lexer": "ipython3",
   "version": "3.6.5"
  }
 },
 "nbformat": 4,
 "nbformat_minor": 2
}
